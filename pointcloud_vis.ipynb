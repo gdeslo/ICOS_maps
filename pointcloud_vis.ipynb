{
 "cells": [
  {
   "cell_type": "code",
   "execution_count": 2,
   "metadata": {},
   "outputs": [
    {
     "name": "stdout",
     "output_type": "stream",
     "text": [
      "Jupyter environment detected. Enabling Open3D WebVisualizer.\n",
      "[Open3D INFO] WebRTC GUI backend enabled.\n",
      "[Open3D INFO] WebRTCWindowSystem: HTTP handshake server disabled.\n"
     ]
    }
   ],
   "source": [
    "import open3d as o3d\n",
    "import numpy as np\n",
    "import laspy\n",
    "import matplotlib.pyplot as plt\n",
    "import imageio\n",
    "import os"
   ]
  },
  {
   "cell_type": "code",
   "execution_count": 10,
   "metadata": {},
   "outputs": [],
   "source": [
    "# Load the LAS file\n",
    "las_file = r\"C:\\Users\\gedsloov\\OneDrive - UGent\\UGent\\PhD\\05_Research\\02_ICOS\\02_Data\\ICOS_BRA_for_presentation\\ICOS_BRA 0.100 m.las\"\n",
    "las = laspy.read(las_file)"
   ]
  },
  {
   "cell_type": "code",
   "execution_count": 11,
   "metadata": {},
   "outputs": [
    {
     "data": {
      "text/plain": [
       "<LasData(1.4, point fmt: <PointFormat(3, 6 bytes of extra dims)>, 23246698 points, 2 vlrs)>"
      ]
     },
     "execution_count": 11,
     "metadata": {},
     "output_type": "execute_result"
    }
   ],
   "source": [
    "las"
   ]
  },
  {
   "cell_type": "code",
   "execution_count": 12,
   "metadata": {},
   "outputs": [],
   "source": [
    "# Extract coordinates\n",
    "points = np.vstack((las.x, las.y, las.z)).T  # X, Y, Z"
   ]
  },
  {
   "cell_type": "code",
   "execution_count": null,
   "metadata": {},
   "outputs": [],
   "source": [
    "# Extract RGB colors (Normalize to 0-1 for Open3D)\n",
    "colors = np.vstack((las.red, las.green, las.blue)).T / 65535  # LAS stores RGB in 16-bit\n"
   ]
  },
  {
   "cell_type": "code",
   "execution_count": 13,
   "metadata": {},
   "outputs": [],
   "source": [
    "# Create Open3D point cloud\n",
    "pcd = o3d.geometry.PointCloud()\n",
    "pcd.points = o3d.utility.Vector3dVector(points)\n",
    "#pcd.colors = o3d.utility.Vector3dVector(colors)"
   ]
  },
  {
   "cell_type": "code",
   "execution_count": 14,
   "metadata": {},
   "outputs": [],
   "source": [
    "# Downsampling (if necessary)\n",
    "if len(points) > 1_000_000:  # Reduce if the file is too large\n",
    "    pcd = pcd.voxel_down_sample(voxel_size=0.05)  # Adjust voxel size as needed"
   ]
  },
  {
   "cell_type": "code",
   "execution_count": 15,
   "metadata": {},
   "outputs": [],
   "source": [
    "# Set up rotation angles\n",
    "num_frames = 36  # Number of frames for full rotation\n",
    "rotation_axis = [0, 0, 1]  # Rotate around Z-axis\n",
    "output_folder = \"rotation_frames\"\n",
    "os.makedirs(output_folder, exist_ok=True)"
   ]
  },
  {
   "cell_type": "code",
   "execution_count": 16,
   "metadata": {},
   "outputs": [],
   "source": [
    "# Generate frames\n",
    "for i in range(num_frames):\n",
    "    angle = (i / num_frames) * 360  # Rotate 360° over frames\n",
    "    R = pcd.get_rotation_matrix_from_axis_angle(np.radians(angle) * np.array(rotation_axis))\n",
    "    pcd_rotated = pcd.rotate(R, center=pcd.get_center())\n",
    "\n",
    "    # Render and save frame\n",
    "    vis = o3d.visualization.Visualizer()\n",
    "    vis.create_window(visible=False)\n",
    "    vis.add_geometry(pcd_rotated)\n",
    "    vis.poll_events()\n",
    "    vis.update_renderer()\n",
    "    \n",
    "    # Capture and save image\n",
    "    image_path = f\"{output_folder}/frame_{i:03d}.png\"\n",
    "    vis.capture_screen_image(image_path)\n",
    "    vis.destroy_window()"
   ]
  },
  {
   "cell_type": "code",
   "execution_count": 17,
   "metadata": {},
   "outputs": [
    {
     "name": "stderr",
     "output_type": "stream",
     "text": [
      "C:\\Users\\gedsloov\\AppData\\Local\\Temp\\ipykernel_20684\\3191174520.py:3: DeprecationWarning: Starting with ImageIO v3 the behavior of this function will switch to that of iio.v3.imread. To keep the current behavior (and make this warning disappear) use `import imageio.v2 as imageio` or call `imageio.v2.imread` directly.\n",
      "  frames = [imageio.imread(f) for f in frame_files]\n"
     ]
    },
    {
     "name": "stdout",
     "output_type": "stream",
     "text": [
      "GIF saved as rotating_pointcloud.gif\n"
     ]
    }
   ],
   "source": [
    "# Create GIF from saved frames\n",
    "frame_files = sorted([f\"{output_folder}/{f}\" for f in os.listdir(output_folder) if f.endswith(\".png\")])\n",
    "frames = [imageio.imread(f) for f in frame_files]\n",
    "gif_path = \"rotating_pointcloud.gif\"\n",
    "imageio.mimsave(gif_path, frames, fps=12)  # Adjust FPS for speed\n",
    "\n",
    "print(f\"GIF saved as {gif_path}\")"
   ]
  }
 ],
 "metadata": {
  "kernelspec": {
   "display_name": ".venv",
   "language": "python",
   "name": "python3"
  },
  "language_info": {
   "codemirror_mode": {
    "name": "ipython",
    "version": 3
   },
   "file_extension": ".py",
   "mimetype": "text/x-python",
   "name": "python",
   "nbconvert_exporter": "python",
   "pygments_lexer": "ipython3",
   "version": "3.11.4"
  }
 },
 "nbformat": 4,
 "nbformat_minor": 2
}
