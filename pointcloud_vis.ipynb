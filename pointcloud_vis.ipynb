{
 "cells": [
  {
   "cell_type": "code",
   "execution_count": 94,
   "metadata": {},
   "outputs": [],
   "source": [
    "import open3d as o3d\n",
    "import numpy as np\n",
    "import laspy\n",
    "import matplotlib.pyplot as plt\n",
    "import imageio\n",
    "import os\n",
    "import time"
   ]
  },
  {
   "cell_type": "code",
   "execution_count": 95,
   "metadata": {},
   "outputs": [],
   "source": [
    "import time"
   ]
  },
  {
   "cell_type": "code",
   "execution_count": 96,
   "metadata": {},
   "outputs": [],
   "source": [
    "# Load the LAS file\n",
    "las_file = r\"C:\\Users\\gedsloov\\OneDrive - UGent\\UGent\\PhD\\05_Research\\02_ICOS\\02_Data\\ICOS_BRA_for_presentation\\ICOS_BRA_CP 0.100 m.las\"\n",
    "las = laspy.read(las_file)"
   ]
  },
  {
   "cell_type": "code",
   "execution_count": 97,
   "metadata": {},
   "outputs": [
    {
     "data": {
      "text/plain": [
       "<LasData(1.4, point fmt: <PointFormat(3, 6 bytes of extra dims)>, 6510282 points, 2 vlrs)>"
      ]
     },
     "execution_count": 97,
     "metadata": {},
     "output_type": "execute_result"
    }
   ],
   "source": [
    "las"
   ]
  },
  {
   "cell_type": "code",
   "execution_count": 98,
   "metadata": {},
   "outputs": [],
   "source": [
    "# Extract coordinates\n",
    "points = np.vstack((las.x, las.y, las.z)).T  # X, Y, Z"
   ]
  },
  {
   "cell_type": "code",
   "execution_count": 99,
   "metadata": {},
   "outputs": [],
   "source": [
    "# Extract RGB colors (Normalize to 0-1 for Open3D)\n",
    "colors = np.vstack((las.red, las.green, las.blue)).T / 65535  # LAS stores RGB in 16-bit\n"
   ]
  },
  {
   "cell_type": "code",
   "execution_count": 100,
   "metadata": {},
   "outputs": [],
   "source": [
    "# Create Open3D point cloud\n",
    "pcd = o3d.geometry.PointCloud()\n",
    "pcd.points = o3d.utility.Vector3dVector(points)\n",
    "pcd.colors = o3d.utility.Vector3dVector(colors)"
   ]
  },
  {
   "cell_type": "code",
   "execution_count": 101,
   "metadata": {},
   "outputs": [],
   "source": [
    "# Downsampling (if necessary)\n",
    "if len(points) > 1_000_000:  # Reduce if the file is too large\n",
    "    pcd = pcd.voxel_down_sample(voxel_size=0.05)  # Adjust voxel size as needed"
   ]
  },
  {
   "cell_type": "code",
   "execution_count": 102,
   "metadata": {},
   "outputs": [],
   "source": [
    "# Set up rotation angles\n",
    "num_frames = 60  # Number of frames for full rotation\n",
    "rotation_axis = [0, 0, 1]  # Rotate around Z-axis\n",
    "output_folder = \"rotation_frames\"\n",
    "os.makedirs(output_folder, exist_ok=True)"
   ]
  },
  {
   "cell_type": "code",
   "execution_count": 103,
   "metadata": {},
   "outputs": [
    {
     "data": {
      "text/plain": [
       "True"
      ]
     },
     "execution_count": 103,
     "metadata": {},
     "output_type": "execute_result"
    }
   ],
   "source": [
    "# Create visualizer\n",
    "vis = o3d.visualization.Visualizer()\n",
    "vis.create_window(visible=False)\n",
    "vis.add_geometry(pcd)"
   ]
  },
  {
   "cell_type": "code",
   "execution_count": 104,
   "metadata": {},
   "outputs": [],
   "source": [
    "# Get the view control\n",
    "view_control = vis.get_view_control()\n",
    "camera_params = view_control.convert_to_pinhole_camera_parameters()\n"
   ]
  },
  {
   "cell_type": "code",
   "execution_count": 105,
   "metadata": {},
   "outputs": [],
   "source": [
    "# 🔥 Reset the camera first to a valid default\n",
    "view_control.set_front([1, -1, 0])  # Side view but slightly rotated\n",
    "view_control.set_up([0, 0, 1])  # Keep Z as the up direction\n",
    "view_control.set_lookat(pcd.get_center())  # Center the camera on the point cloud\n",
    "view_control.set_zoom(0.8)  # Zoom out a bit to fit the whole point cloud\n"
   ]
  },
  {
   "cell_type": "code",
   "execution_count": 106,
   "metadata": {},
   "outputs": [],
   "source": [
    "# Force Open3D to apply these camera settings\n",
    "vis.poll_events()\n",
    "vis.update_renderer()\n",
    "time.sleep(1)  # ✅ Give Open3D time to render"
   ]
  },
  {
   "cell_type": "code",
   "execution_count": 107,
   "metadata": {},
   "outputs": [
    {
     "name": "stdout",
     "output_type": "stream",
     "text": [
      "Saved frame 1/60\n",
      "Saved frame 2/60\n",
      "Saved frame 3/60\n",
      "Saved frame 4/60\n",
      "Saved frame 5/60\n",
      "Saved frame 6/60\n",
      "Saved frame 7/60\n",
      "Saved frame 8/60\n",
      "Saved frame 9/60\n",
      "Saved frame 10/60\n",
      "Saved frame 11/60\n",
      "Saved frame 12/60\n",
      "Saved frame 13/60\n",
      "Saved frame 14/60\n",
      "Saved frame 15/60\n",
      "Saved frame 16/60\n",
      "Saved frame 17/60\n",
      "Saved frame 18/60\n",
      "Saved frame 19/60\n",
      "Saved frame 20/60\n",
      "Saved frame 21/60\n",
      "Saved frame 22/60\n",
      "Saved frame 23/60\n",
      "Saved frame 24/60\n",
      "Saved frame 25/60\n",
      "Saved frame 26/60\n",
      "Saved frame 27/60\n",
      "Saved frame 28/60\n",
      "Saved frame 29/60\n",
      "Saved frame 30/60\n",
      "Saved frame 31/60\n",
      "Saved frame 32/60\n",
      "Saved frame 33/60\n",
      "Saved frame 34/60\n",
      "Saved frame 35/60\n",
      "Saved frame 36/60\n",
      "Saved frame 37/60\n",
      "Saved frame 38/60\n",
      "Saved frame 39/60\n",
      "Saved frame 40/60\n",
      "Saved frame 41/60\n",
      "Saved frame 42/60\n",
      "Saved frame 43/60\n",
      "Saved frame 44/60\n",
      "Saved frame 45/60\n",
      "Saved frame 46/60\n",
      "Saved frame 47/60\n",
      "Saved frame 48/60\n",
      "Saved frame 49/60\n",
      "Saved frame 50/60\n",
      "Saved frame 51/60\n",
      "Saved frame 52/60\n",
      "Saved frame 53/60\n",
      "Saved frame 54/60\n",
      "Saved frame 55/60\n",
      "Saved frame 56/60\n",
      "Saved frame 57/60\n",
      "Saved frame 58/60\n",
      "Saved frame 59/60\n",
      "Saved frame 60/60\n"
     ]
    }
   ],
   "source": [
    "# Generate frames\n",
    "for i in range(num_frames):\n",
    "    angle = (i / num_frames) * 360  # Rotate full 360°\n",
    "    R = pcd.get_rotation_matrix_from_axis_angle(np.radians(angle) * np.array(rotation_axis))\n",
    "    pcd_rotated = pcd.rotate(R, center=pcd.get_center())\n",
    "\n",
    "    vis.update_geometry(pcd_rotated)\n",
    "    vis.poll_events()\n",
    "    vis.update_renderer()\n",
    "    time.sleep(0.5)  # ✅ Ensures rendering completes before capture\n",
    "\n",
    "    # Save frame\n",
    "    image_path = f\"{output_folder}/frame_{i:03d}.png\"\n",
    "    vis.capture_screen_image(image_path)\n",
    "    print(f\"Saved frame {i+1}/{num_frames}\")\n",
    "\n",
    "vis.destroy_window()\n"
   ]
  },
  {
   "cell_type": "code",
   "execution_count": 108,
   "metadata": {},
   "outputs": [
    {
     "name": "stderr",
     "output_type": "stream",
     "text": [
      "C:\\Users\\gedsloov\\AppData\\Local\\Temp\\ipykernel_4760\\2581745818.py:3: DeprecationWarning: Starting with ImageIO v3 the behavior of this function will switch to that of iio.v3.imread. To keep the current behavior (and make this warning disappear) use `import imageio.v2 as imageio` or call `imageio.v2.imread` directly.\n",
      "  frames = [imageio.imread(f) for f in frame_files]\n"
     ]
    },
    {
     "name": "stdout",
     "output_type": "stream",
     "text": [
      "GIF saved as rotating_pointcloud_slightly_above.gif\n"
     ]
    }
   ],
   "source": [
    "# Create GIF with slower animation\n",
    "frame_files = sorted([f\"{output_folder}/{f}\" for f in os.listdir(output_folder) if f.endswith(\".png\")])\n",
    "frames = [imageio.imread(f) for f in frame_files]\n",
    "gif_path = \"rotating_pointcloud_slightly_above.gif\"\n",
    "imageio.mimsave(gif_path, frames, fps=5)  # Slow down by reducing FPS\n",
    "\n",
    "print(f\"GIF saved as {gif_path}\")"
   ]
  },
  {
   "cell_type": "code",
   "execution_count": 109,
   "metadata": {},
   "outputs": [
    {
     "name": "stdout",
     "output_type": "stream",
     "text": [
      "Saved frame 1/60\n",
      "Saved frame 2/60\n",
      "Saved frame 3/60\n",
      "Saved frame 4/60\n",
      "Saved frame 5/60\n",
      "Saved frame 6/60\n",
      "Saved frame 7/60\n",
      "Saved frame 8/60\n",
      "Saved frame 9/60\n",
      "Saved frame 10/60\n",
      "Saved frame 11/60\n",
      "Saved frame 12/60\n",
      "Saved frame 13/60\n",
      "Saved frame 14/60\n",
      "Saved frame 15/60\n",
      "Saved frame 16/60\n",
      "Saved frame 17/60\n",
      "Saved frame 18/60\n",
      "Saved frame 19/60\n",
      "Saved frame 20/60\n",
      "Saved frame 21/60\n",
      "Saved frame 22/60\n",
      "Saved frame 23/60\n",
      "Saved frame 24/60\n",
      "Saved frame 25/60\n",
      "Saved frame 26/60\n",
      "Saved frame 27/60\n",
      "Saved frame 28/60\n",
      "Saved frame 29/60\n",
      "Saved frame 30/60\n",
      "Saved frame 31/60\n",
      "Saved frame 32/60\n",
      "Saved frame 33/60\n",
      "Saved frame 34/60\n",
      "Saved frame 35/60\n",
      "Saved frame 36/60\n",
      "Saved frame 37/60\n",
      "Saved frame 38/60\n",
      "Saved frame 39/60\n",
      "Saved frame 40/60\n",
      "Saved frame 41/60\n",
      "Saved frame 42/60\n",
      "Saved frame 43/60\n",
      "Saved frame 44/60\n",
      "Saved frame 45/60\n",
      "Saved frame 46/60\n",
      "Saved frame 47/60\n",
      "Saved frame 48/60\n",
      "Saved frame 49/60\n",
      "Saved frame 50/60\n",
      "Saved frame 51/60\n",
      "Saved frame 52/60\n",
      "Saved frame 53/60\n",
      "Saved frame 54/60\n",
      "Saved frame 55/60\n",
      "Saved frame 56/60\n",
      "Saved frame 57/60\n",
      "Saved frame 58/60\n",
      "Saved frame 59/60\n",
      "Saved frame 60/60\n",
      "GIF saved as rotating_pointcloud_sideview.gif\n"
     ]
    }
   ],
   "source": [
    "import open3d as o3d\n",
    "import numpy as np\n",
    "import laspy\n",
    "import imageio.v2 as imageio\n",
    "import os\n",
    "import time\n",
    "\n",
    "# Load the LAS file\n",
    "las_file = r\"C:\\Users\\gedsloov\\OneDrive - UGent\\UGent\\PhD\\05_Research\\02_ICOS\\02_Data\\ICOS_BRA_for_presentation\\ICOS_BRA_CP 0.100 m.las\"\n",
    "las = laspy.read(las_file)\n",
    "\n",
    "# Extract coordinates\n",
    "points = np.vstack((las.x, las.y, las.z)).T  # X, Y, Z\n",
    "\n",
    "# Extract RGB colors (Normalize to 0-1 for Open3D)\n",
    "colors = np.vstack((las.red, las.green, las.blue)).T / 65535\n",
    "\n",
    "# Create Open3D point cloud\n",
    "pcd = o3d.geometry.PointCloud()\n",
    "pcd.points = o3d.utility.Vector3dVector(points)\n",
    "pcd.colors = o3d.utility.Vector3dVector(colors)\n",
    "\n",
    "# Downsampling if needed\n",
    "if len(points) > 10_000_000:  # Keep ~10M points max\n",
    "    pcd = pcd.voxel_down_sample(voxel_size=0.05)\n",
    "\n",
    "# Set up rotation and camera\n",
    "num_frames = 60  # More frames = smoother rotation\n",
    "rotation_axis = [0, 0, 1]  # Rotate around Z-axis\n",
    "output_folder = \"rotation_frames\"\n",
    "os.makedirs(output_folder, exist_ok=True)\n",
    "\n",
    "# Create Open3D visualizer\n",
    "vis = o3d.visualization.Visualizer()\n",
    "vis.create_window(visible=False)\n",
    "vis.add_geometry(pcd)\n",
    "\n",
    "# 🔥 Set PURE Side View (No Above Angle Yet)\n",
    "view_control = vis.get_view_control()\n",
    "view_control.set_front([1, 0, 0])  # Side view along X-axis\n",
    "view_control.set_up([0, 0, 1])  # Z-axis is up\n",
    "view_control.set_lookat(pcd.get_center())  # Center on point cloud\n",
    "view_control.set_zoom(0.8)  # Slight zoom out to fit the whole cloud\n",
    "\n",
    "# Force Open3D to apply these camera settings\n",
    "vis.poll_events()\n",
    "vis.update_renderer()\n",
    "time.sleep(1)  # Allow Open3D time to render\n",
    "\n",
    "# Generate frames\n",
    "for i in range(num_frames):\n",
    "    angle = (i / num_frames) * 360  # Rotate full 360°\n",
    "    R = pcd.get_rotation_matrix_from_axis_angle(np.radians(angle) * np.array(rotation_axis))\n",
    "    pcd_rotated = pcd.rotate(R, center=pcd.get_center())\n",
    "\n",
    "    vis.update_geometry(pcd_rotated)\n",
    "    vis.poll_events()\n",
    "    vis.update_renderer()\n",
    "    time.sleep(0.5)  # Ensures rendering completes before capture\n",
    "\n",
    "    # Save frame\n",
    "    image_path = f\"{output_folder}/frame_{i:03d}.png\"\n",
    "    vis.capture_screen_image(image_path)\n",
    "    print(f\"Saved frame {i+1}/{num_frames}\")\n",
    "\n",
    "vis.destroy_window()\n",
    "\n",
    "# Create GIF with slower animation\n",
    "frame_files = sorted([f\"{output_folder}/{f}\" for f in os.listdir(output_folder) if f.endswith(\".png\")])\n",
    "frames = [imageio.imread(f) for f in frame_files]\n",
    "gif_path = \"rotating_pointcloud_sideview.gif\"\n",
    "imageio.mimsave(gif_path, frames, fps=5)  # Slow down by reducing FPS\n",
    "\n",
    "print(f\"GIF saved as {gif_path}\")\n"
   ]
  }
 ],
 "metadata": {
  "kernelspec": {
   "display_name": ".venv",
   "language": "python",
   "name": "python3"
  },
  "language_info": {
   "codemirror_mode": {
    "name": "ipython",
    "version": 3
   },
   "file_extension": ".py",
   "mimetype": "text/x-python",
   "name": "python",
   "nbconvert_exporter": "python",
   "pygments_lexer": "ipython3",
   "version": "3.11.4"
  }
 },
 "nbformat": 4,
 "nbformat_minor": 2
}
